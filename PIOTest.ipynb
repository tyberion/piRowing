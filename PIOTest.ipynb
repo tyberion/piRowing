{
 "metadata": {
  "name": "PIOTest"
 },
 "nbformat": 3,
 "nbformat_minor": 0,
 "worksheets": [
  {
   "cells": [
    {
     "cell_type": "code",
     "collapsed": false,
     "input": [
      "import smbus\n",
      "BUSNUM = 1\n",
      "ADDRESS = 0x20\n",
      "\n",
      "B1A = 0x12\n",
      "B2A = 0x13"
     ],
     "language": "python",
     "metadata": {},
     "outputs": [],
     "prompt_number": 16
    },
    {
     "cell_type": "code",
     "collapsed": false,
     "input": [
      "def get_output_bank(bus, address):\n",
      "    CONFB1A = 0x00\n",
      "    CONFB2A = 0x01\n",
      "    \n",
      "    output_bank_1 = bus.read_byte_data(address, CONFB1A)\n",
      "    output_bank_2 = bus.read_byte_data(address, CONFB2A)\n",
      "    \n",
      "    return output_bank_1 + 2**8 * output_bank_2\n",
      "\n",
      "def config_pins(bus, address, pins, output=False):\n",
      "    CONFB1A = 0x00\n",
      "    CONFB2A = 0x01\n",
      "    \n",
      "    output_int = (not output) * 2 - 1\n",
      "    \n",
      "    output_bank = get_output_bank(bus, address)\n",
      "    \n",
      "    if not (type(pins) == list):\n",
      "        pins = [pins]\n",
      "\n",
      "    if output:\n",
      "        set_outputs = 0xffff\n",
      "    else:\n",
      "        set_outputs = 0\n",
      "        \n",
      "    for pin in pins:\n",
      "        set_outputs += (2**pin) * output_int\n",
      "    \n",
      "    if output:\n",
      "        output_bank &= set_outputs\n",
      "    else:\n",
      "        output_bank |= set_outputs\n",
      "    \n",
      "    output_bank_2 = output_bank >> 8\n",
      "    output_bank_1 = output_bank - output_bank_2 * 2**8\n",
      "    \n",
      "    bus.write_byte_data(address, CONFB1A, output_bank_1)\n",
      "    bus.write_byte_data(address, CONFB2A, output_bank_2)\n",
      "    \n",
      "def set_pins():\n",
      "    if not (type(pins) == list):\n",
      "        pins = [pins]\n",
      "        \n",
      "def get_pin_values(value, pins):\n",
      "    if not (type(pins) == list):\n",
      "        pins = [pins]\n",
      "    return [(value >> pin) % 2 for pin in pins]"
     ],
     "language": "python",
     "metadata": {},
     "outputs": [],
     "prompt_number": 160
    },
    {
     "cell_type": "code",
     "collapsed": false,
     "input": [
      "bus = smbus.SMBus(BUSNUM)"
     ],
     "language": "python",
     "metadata": {},
     "outputs": [],
     "prompt_number": 34
    },
    {
     "cell_type": "code",
     "collapsed": false,
     "input": [
      "config_pins(bus, ADDRESS, [x for x in range(8)], output=True)\n",
      "output_bank = get_output_bank(bus, ADDRESS)\n",
      "hex(output_bank)"
     ],
     "language": "python",
     "metadata": {},
     "outputs": [
      {
       "output_type": "pyout",
       "prompt_number": 158,
       "text": [
        "'0xff00'"
       ]
      }
     ],
     "prompt_number": 158
    },
    {
     "cell_type": "code",
     "collapsed": false,
     "input": [
      "get_pin_values(output_bank,[x+8 for x in range(8)])"
     ],
     "language": "python",
     "metadata": {},
     "outputs": [
      {
       "output_type": "pyout",
       "prompt_number": 164,
       "text": [
        "[1, 1, 1, 1, 1, 1, 1, 1]"
       ]
      }
     ],
     "prompt_number": 164
    },
    {
     "cell_type": "code",
     "collapsed": false,
     "input": [
      "bin(output_bank)"
     ],
     "language": "python",
     "metadata": {},
     "outputs": [
      {
       "output_type": "pyout",
       "prompt_number": 101,
       "text": [
        "'0b1111111010101010'"
       ]
      }
     ],
     "prompt_number": 101
    },
    {
     "cell_type": "code",
     "collapsed": false,
     "input": [
      "[x*2**8 for x in range(8)]"
     ],
     "language": "python",
     "metadata": {},
     "outputs": [
      {
       "output_type": "pyout",
       "prompt_number": 163,
       "text": [
        "[0, 256, 512, 768, 1024, 1280, 1536, 1792]"
       ]
      }
     ],
     "prompt_number": 163
    },
    {
     "cell_type": "code",
     "collapsed": false,
     "input": [
      "(not False)*2-1"
     ],
     "language": "python",
     "metadata": {},
     "outputs": [
      {
       "output_type": "pyout",
       "prompt_number": 135,
       "text": [
        "1"
       ]
      }
     ],
     "prompt_number": 135
    },
    {
     "cell_type": "code",
     "collapsed": false,
     "input": [],
     "language": "python",
     "metadata": {},
     "outputs": []
    }
   ],
   "metadata": {}
  }
 ]
}