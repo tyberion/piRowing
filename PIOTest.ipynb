{
 "metadata": {
  "name": "PIOTest"
 },
 "nbformat": 3,
 "nbformat_minor": 0,
 "worksheets": [
  {
   "cells": [
    {
     "cell_type": "code",
     "collapsed": false,
     "input": [
      "import smbus\n",
      "BUSNUM = 1\n",
      "ADDRESS = 0x20\n",
      "\n",
      "bus = smbus.SMBus(BUSNUM)"
     ],
     "language": "python",
     "metadata": {},
     "outputs": [],
     "prompt_number": 19
    },
    {
     "cell_type": "code",
     "collapsed": false,
     "input": [
      "def write_pins(bus, address, bank, pins, value=False):\n",
      "    value_int = value * 2 - 1\n",
      "    \n",
      "    output_bank = bus.read_byte_data(address, bank)\n",
      "    \n",
      "    if not (type(pins) == list):\n",
      "        pins = [pins]\n",
      "\n",
      "    if value:\n",
      "        set_outputs = 0\n",
      "    else:\n",
      "        set_outputs = 0xff\n",
      "    \n",
      "    for pin in pins:\n",
      "        set_outputs += (2**pin) * value_int\n",
      "    \n",
      "    if value:\n",
      "        output_bank |= set_outputs\n",
      "    else:\n",
      "        output_bank &= set_outputs\n",
      "    \n",
      "    bus.write_byte_data(address, bank, output_bank)\n",
      "\n",
      "def config_pins(bus, address, bank, pins, output=False):\n",
      "    CONFB1A = 0x00\n",
      "    CONFB2A = 0x01\n",
      "    \n",
      "    if bank == 'A':\n",
      "        write_pins(bus, address, CONFB1A, pins, value=output)\n",
      "    else:\n",
      "        write_pins(bus, address, CONFB2A, pins, value=output)\n",
      "    \n",
      "def set_pins(bus, address, bank, pins, value):\n",
      "    B1A = 0x12\n",
      "    B2A = 0x13\n",
      "    \n",
      "    if not (type(pins) == list):\n",
      "        pins = [pins]\n",
      "    \n",
      "    if bank == 'A':\n",
      "        write_pins(bus, address, B1A, pins, value=value)\n",
      "    else:\n",
      "        write_pins(bus, address, B2A, pins, value=value)\n",
      "\n",
      "def get_pins(bus, address, bank):\n",
      "    B1A = 0x12\n",
      "    B2A = 0x13\n",
      "    \n",
      "    if bank == 'A':\n",
      "        return bus.read_byte_data(address, B1A)\n",
      "    else:\n",
      "        return bus.read_byte_data(address, B2A)\n",
      "        \n",
      "def get_pin_values(value, pins):\n",
      "    if not (type(pins) == list):\n",
      "        pins = [pins]\n",
      "    return [(value >> pin) % 2 for pin in pins]"
     ],
     "language": "python",
     "metadata": {},
     "outputs": [],
     "prompt_number": 43
    },
    {
     "cell_type": "code",
     "collapsed": false,
     "input": [
      "config_pins(bus, ADDRESS, 'A', [0], False)\n",
      "set_pins(bus, ADDRESS, 'A', [0], False)\n",
      "output_bank = get_pins(bus, ADDRESS, 'A')\n",
      "bin(output_bank)"
     ],
     "language": "python",
     "metadata": {},
     "outputs": [
      {
       "output_type": "pyout",
       "prompt_number": 52,
       "text": [
        "'0b0'"
       ]
      }
     ],
     "prompt_number": 52
    },
    {
     "cell_type": "code",
     "collapsed": false,
     "input": [],
     "language": "python",
     "metadata": {},
     "outputs": []
    }
   ],
   "metadata": {}
  }
 ]
}